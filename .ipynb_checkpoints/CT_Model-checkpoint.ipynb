{
 "cells": [
  {
   "cell_type": "code",
   "execution_count": 8,
   "metadata": {},
   "outputs": [],
   "source": [
    "import tensorflow as tf\n",
    "import numpy as np\n",
    "import matplotlib.pyplot as plt\n",
    "from tensorflow.keras import backend as K\n",
    "import pickle\n",
    "from tensorflow.keras.layers import *\n",
    "\n",
    "#Ignore Future Warnings\n",
    "import warnings\n",
    "warnings.simplefilter(action='ignore', category=FutureWarning)"
   ]
  },
  {
   "cell_type": "code",
   "execution_count": 9,
   "metadata": {},
   "outputs": [
    {
     "name": "stdout",
     "output_type": "stream",
     "text": [
      "2.1.0\n"
     ]
    }
   ],
   "source": [
    "# Check that TF 2.1.0 is in use\n",
    "print(tf.__version__)"
   ]
  },
  {
   "cell_type": "markdown",
   "metadata": {},
   "source": [
    "# 3D Convolutional Neural Net with CT Data"
   ]
  },
  {
   "cell_type": "code",
   "execution_count": 21,
   "metadata": {},
   "outputs": [
    {
     "name": "stdout",
     "output_type": "stream",
     "text": [
      "(1, 512, 512, 130, 1)\n",
      "(1, 512, 512, 130, 1)\n"
     ]
    }
   ],
   "source": [
    "#Load and preprocess data\n",
    "\n",
    "datadir = './LCTSC/'\n",
    "\n",
    "#load data with simple crop\n",
    "esophagus = np.load(datadir + 'Esophagus.npy')[:,:,:130]\n",
    "traindata = np.load(datadir + '79262_data.npy')[:,:,:130]\n",
    "\n",
    "\n",
    "\n",
    "\n",
    "#Reshape data to create right dimensions\n",
    "esophagus = esophagus.reshape(1,esophagus.shape[0],esophagus.shape[1],esophagus.shape[2],1)\n",
    "traindata = traindata.reshape(1,traindata.shape[0],traindata.shape[1],traindata.shape[2],1)\n",
    "\n",
    "\n",
    "print(traindata.shape)\n",
    "print(esophagus.shape)\n",
    "\n"
   ]
  },
  {
   "cell_type": "code",
   "execution_count": null,
   "metadata": {},
   "outputs": [
    {
     "name": "stdout",
     "output_type": "stream",
     "text": [
      "Model: \"sequential_4\"\n",
      "_________________________________________________________________\n",
      "Layer (type)                 Output Shape              Param #   \n",
      "=================================================================\n",
      "conv3d_3 (Conv3D)            (None, 512, 512, 130, 5)  140       \n",
      "_________________________________________________________________\n",
      "max_pooling3d_1 (MaxPooling3 (None, 256, 256, 65, 5)   0         \n",
      "_________________________________________________________________\n",
      "conv3d_4 (Conv3D)            (None, 256, 256, 65, 2)   272       \n",
      "_________________________________________________________________\n",
      "up_sampling3d_1 (UpSampling3 (None, 512, 512, 130, 2)  0         \n",
      "_________________________________________________________________\n",
      "conv3d_5 (Conv3D)            (None, 512, 512, 130, 5)  275       \n",
      "_________________________________________________________________\n",
      "conv3d_6 (Conv3D)            (None, 512, 512, 130, 1)  136       \n",
      "=================================================================\n",
      "Total params: 823\n",
      "Trainable params: 823\n",
      "Non-trainable params: 0\n",
      "_________________________________________________________________\n",
      "None\n",
      "Train on 1 samples\n"
     ]
    }
   ],
   "source": [
    "#Create and train model architecture\n",
    "def CNN3D():\n",
    "    \n",
    "    #### Fill in model ####\n",
    "    model = tf.keras.models.Sequential()\n",
    "    \n",
    "    #model.add(Dropout(0.3))\n",
    "    \n",
    "    model.add(Conv3D(5, kernel_size = (3,3,3), input_shape = (512,512,130,1), padding = 'same', activation = 'relu'))\n",
    "    \n",
    "    model.add(MaxPool3D(pool_size = (2,2,2)))\n",
    "    \n",
    "    model.add(Conv3D(2, kernel_size = (3,3,3), padding = 'same', activation = 'relu'))\n",
    "    \n",
    "    model.add(UpSampling3D(size = (2,2,2)))\n",
    "    \n",
    "    model.add(Conv3D(5, kernel_size = (3,3,3), padding = 'same', activation = 'relu'))\n",
    "    \n",
    "    model.add(Conv3D(1, kernel_size = (3,3,3), padding = 'same', activation = 'relu'))\n",
    "    \n",
    "    return model\n",
    "\n",
    "#Compile and train the model\n",
    "CNN_Simple = CNN3D()\n",
    "\n",
    "print(CNN_Simple.summary())\n",
    "\n",
    "CNN_Simple.compile(loss = 'mse', optimizer = 'Adam', metrics=['accuracy'])\n",
    "\n",
    "history = CNN_Simple.fit(traindata, esophagus, #validation_data=(data_test, labels_test), \n",
    "                         epochs=1, batch_size=1, shuffle=True)\n",
    "\n",
    "#scores = CNN_Simple.evaluate(data_test, labels_test)\n",
    "#print(\"Accuracy: %.2f%%\" %(scores[1]*100))\n"
   ]
  },
  {
   "cell_type": "code",
   "execution_count": null,
   "metadata": {},
   "outputs": [],
   "source": []
  }
 ],
 "metadata": {
  "kernelspec": {
   "display_name": "Python 3",
   "language": "python",
   "name": "python3"
  },
  "language_info": {
   "codemirror_mode": {
    "name": "ipython",
    "version": 3
   },
   "file_extension": ".py",
   "mimetype": "text/x-python",
   "name": "python",
   "nbconvert_exporter": "python",
   "pygments_lexer": "ipython3",
   "version": "3.7.6"
  }
 },
 "nbformat": 4,
 "nbformat_minor": 2
}
