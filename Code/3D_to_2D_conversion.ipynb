{
 "cells": [
  {
   "cell_type": "code",
   "execution_count": 2,
   "metadata": {},
   "outputs": [
    {
     "data": {
      "text/plain": [
       "'/home/kraibhat'"
      ]
     },
     "execution_count": 2,
     "metadata": {},
     "output_type": "execute_result"
    }
   ],
   "source": [
    "import os\n",
    "import numpy as np\n",
    "os.getcwd()"
   ]
  },
  {
   "cell_type": "code",
   "execution_count": null,
   "metadata": {},
   "outputs": [],
   "source": [
    "data_dir = '/home/kraibhat/LCTSC/data'\n",
    "save_data_dir = '/home/kraibhat/LCTSC/data_2d'\n",
    "files = os.listdir(data_dir)\n",
    "\n",
    "for f in files:\n",
    "    print(f)\n",
    "    if 'CTvolume' in f:\n",
    "        data = np.load(os.path.join(data_dir, f))\n",
    "        for a in range(data.shape[2]):\n",
    "            d = data[:,:,a]\n",
    "            savefile = save_data_dir + '/' + f[:-4] + '_' + str(a).zfill(3) + '.npy'\n",
    "            np.save(savefile, d)\n",
    "            "
   ]
  },
  {
   "cell_type": "code",
   "execution_count": null,
   "metadata": {},
   "outputs": [],
   "source": [
    "seg_dir = '/home/kraibhat/LCTSC/seg'\n",
    "save_heart_dir = '/home/kraibhat/LCTSC/heart_2d'\n",
    "save_eso_dir = '/home/kraibhat/LCTSC/eso_2d'\n",
    "save_lungR_dir = '/home/kraibhat/LCTSC/lungR_2d'\n",
    "save_lungL_dir = '/home/kraibhat/LCTSC/lungL_2d'\n",
    "save_spine_dir = '/home/kraibhat/LCTSC/spine_2d'\n",
    "\n",
    "\n",
    "files = os.listdir(seg_dir)\n",
    "\n",
    "for f in files:\n",
    "    print(f)\n",
    "    if 'Heart' in f:\n",
    "        data = np.load(os.path.join(seg_dir, f))\n",
    "        for a in range(data.shape[2]):\n",
    "            d = data[:,:,a]\n",
    "            savefile = save_heart_dir + '/' + f[:-4] + '_' + str(a).zfill(3) + '.npy'\n",
    "#             np.save(savefile, d)\n",
    "            print(savefile)\n",
    "    elif 'Esophagus' in f:\n",
    "        data = np.load(os.path.join(seg_dir, f))\n",
    "        for a in range(data.shape[2]):\n",
    "            d = data[:,:,a]\n",
    "            savefile = save_eso_dir + '/' + f[:-4] + '_' + str(a).zfill(3) + '.npy'\n",
    "#             np.save(savefile, d)\n",
    "            print(savefile)\n",
    "\n",
    "    elif 'Lung_R' in f:\n",
    "        data = np.load(os.path.join(seg_dir, f))\n",
    "        for a in range(data.shape[2]):\n",
    "            d = data[:,:,a]\n",
    "            savefile = save_lungR_dir + '/' + f[:-4] + '_' + str(a).zfill(3) + '.npy'\n",
    "#             np.save(savefile, d)\n",
    "            print(savefile)\n",
    "\n",
    "    elif 'Lung_L' in f:\n",
    "        data = np.load(os.path.join(seg_dir, f))\n",
    "        for a in range(data.shape[2]):\n",
    "            d = data[:,:,a]\n",
    "            savefile = save_lungL_dir + '/' + f[:-4] + '_' + str(a).zfill(3) + '.npy'\n",
    "#             np.save(savefile, d)\n",
    "            print(savefile)\n",
    "\n",
    "    elif 'SpinalCord' in f:\n",
    "        data = np.load(os.path.join(seg_dir, f))\n",
    "        for a in range(data.shape[2]):\n",
    "            d = data[:,:,a]\n",
    "            savefile = save_spine_dir + '/' + f[:-4] + '_' + str(a).zfill(3) + '.npy'\n",
    "#             np.save(savefile, d)\n",
    "            print(savefile)\n",
    "\n",
    "    else:\n",
    "        print('bad')"
   ]
  },
  {
   "cell_type": "code",
   "execution_count": null,
   "metadata": {},
   "outputs": [],
   "source": []
  }
 ],
 "metadata": {
  "kernelspec": {
   "display_name": "Python 3",
   "language": "python",
   "name": "python3"
  },
  "language_info": {
   "codemirror_mode": {
    "name": "ipython",
    "version": 3
   },
   "file_extension": ".py",
   "mimetype": "text/x-python",
   "name": "python",
   "nbconvert_exporter": "python",
   "pygments_lexer": "ipython3",
   "version": "3.7.6"
  }
 },
 "nbformat": 4,
 "nbformat_minor": 2
}
